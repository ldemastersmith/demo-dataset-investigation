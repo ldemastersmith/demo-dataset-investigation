{
 "cells": [
  {
   "cell_type": "markdown",
   "metadata": {},
   "source": [
    "<a id='top_of_page'></a>\n",
    "# Project: Investigation a Dataset of Medical Appointment No-shows\n",
    "\n",
    "## Table of Contents\n",
    "<ul>\n",
    "<li><a href=\"#1.0_intro\"> <b>1) Introduction</b> </a></li>\n",
    "    <ul>\n",
    "    <li><a href=\"#1.1_dataset_overview\">1.1) Dataset Overview</a></li>\n",
    "    <li><a href=\"#1.2_dataset_columns\">1.2) Dataset Columns</a></li>\n",
    "    <li><a href=\"#1.3_objective_and_questions\">1.3) Analysis Objective, Scope, and Questions</a></li>\n",
    "    <li><a href=\"#1.4_settingUpEnvironment\">1.4) Setting up the Notebook Environment</a></li>\n",
    "    </ul>\n",
    "<li><a href=\"#2.0_wrangling\"> <b>2) Data Wrangling</b> </a></li>\n",
    "    <ul>\n",
    "    <li><a href=\"#2.1_general_properties\">2.1) General Properties</a></li>\n",
    "    <li><a href=\"#2.2_check_cleanliness\">2.2) Check Data Cleanliness</a></li>\n",
    "    <li><a href=\"#2.3_clean_data\">2.3) Clean Data</a></li>\n",
    "    <li><a href=\"#2.4_add_features\">2.4) Add New Features</a></li>\n",
    "    <li><a href=\"#2.5_Perform_Additional_data_cleaning\">2.5) Perform Additional Data Cleaning</a></li>\n",
    "    </ul>\n",
    "<li><a href=\"#3.0_eda\"> <b>3) Exploratory Data Analysis</b> </a></li>\n",
    "    <ul>\n",
    "    <li><a href=\"#3.1_data_exploration\">3.1) Top Level</a></li>\n",
    "    <li><a href=\"#3.2_research_question\">3.2) Research Question 1</a></li>\n",
    "    <li><a href=\"#3.3_research_question\">3.3) Research Question 2</a></li>\n",
    "    <li><a href=\"#3.4_research_question\">3.4) Research Question 3</a></li>\n",
    "    </ul>\n",
    "<li><a href=\"#4.0_summary\"> <b>4) Summary</b> </a></li>\n",
    "    <ul>\n",
    "    <li><a href=\"#4.1_limits_of_analysis\">4.1) Limits of Analysis</a></li>\n",
    "    <li><a href=\"#4.2_conclusions\">4.2) Conclusions</a></li>\n",
    "    </ul>\n",
    "</ul>"
   ]
  },
  {
   "cell_type": "markdown",
   "metadata": {},
   "source": [
    "<a id='1.0_intro'></a>\n",
    "## 1) Introduction\n",
    "<ul> <a href=\"#top_of_page\">Top of Page</a> </ul>\n",
    "\n",
    "<a id='1.1_dataset_overview'></a>\n",
    "### 1.1) Dataset Overview:\n",
    "<ul> <a href=\"#top_of_page\">Top of Page</a> </ul>\n",
    "\n",
    "I selected a dataset which contains information from over 100k medical appointments in Brazil and is focused on the question of whether or not patients show up for their appointment. The dataset can be found at the following link:\n",
    "*  https://www.kaggle.com/joniarroba/noshowappointments\n",
    "\n",
    "<a id='1.2_dataset_columns'></a>\n",
    "### 1.2) Dataset Columns:\n",
    "<ul> <a href=\"#top_of_page\">Top of Page</a> </ul>\n",
    "\n",
    "The [source website](https://www.kaggle.com/joniarroba/noshowappointments) describes the data columns as indicated in the bullets below. I modified the column descriptions for grammar, spelling, and clarity. I will perform validity checks on the columns and their values during the Data Wrangling and Data Exploration phases.\n",
    "\n",
    "Column Decriptions:\n",
    "* PatientId = Identification of a patient\n",
    "* AppointmentID = Identification of each appointment\n",
    "* Gender = Male or Female \n",
    "* ScheduledDay = The day of the actual appointment, when they have to visit the doctor.\n",
    "* AppointmentDay = The day someone called or registered the appointment.\n",
    "* Age = How old is the patient.\n",
    "* Neighbourhood = Where the appointment takes place\n",
    "* Scholarship = True or False\n",
    "* Hipertension = True or False \n",
    "* Diabetes = True or False\n",
    "* Alcoholism = True or False\n",
    "* Handcap = The # of disabilities a person has (as [explained here](https://www.kaggle.com/joniarroba/noshowappointments/discussion/29699) by the dataset creator)\n",
    "* SMS_received = 1 or more messages sent to the patient\n",
    "* No-show = True or False\n",
    "\n",
    "<a id='1.3_objective_and_questions'></a>\n",
    "### 1.3) Analysis Objective, Scope, and Questions:\n",
    "<ul> <a href=\"#top_of_page\">Top of Page</a> </ul>\n",
    "\n",
    "* **Analysis Objective:**\n",
    "  * The primary goal of this report is to analyze how various parameters (assumed to be independent variables) do or do not correlate to the 'No-show' parameter (assumed to be a dependent variable).\n",
    "* **Scope and Approach:**\n",
    "  * Assessments of correlation in this report will be based primarily on plots and descriptive statistics. As such, all findings herein will be subjective and do not imply causation between parameters.\n",
    "* **To address the analysis objective, there are a couple of questions I plan to explore in this report:**\n",
    "  1. Is there a relationship between (Appointment day-of-week) and 'No-show'?\n",
    "     * plot daily no-show percentage vs. appointment day of week\n",
    "         * daily no-show percentage = # of no-shows that day / # of appointments that day\n",
    "     * plot % of \n",
    "  2. Is there a relationship between 'timeWaiting' (i.e., the # of days between 'ScheduledDay' and 'AppointmentDay') and 'No-show'?\n",
    "  3. Are certain patients (young, old, male, female, etc.) more or less likely to have a 'No-show'?\n",
    "     * \n",
    "  \n",
    "<a id='1.4_settingUpEnvironment'></a>\n",
    "### 1.4) Setting up the Notebook environment:\n",
    "\n",
    "<ul> <a href=\"#top_of_page\">Top of Page</a> </ul>"
   ]
  },
  {
   "cell_type": "code",
   "execution_count": 49,
   "metadata": {},
   "outputs": [],
   "source": [
    "# import statements for the packages that will be used\n",
    "import numpy as np\n",
    "import pandas as pd\n",
    "import matplotlib.pyplot as plt\n",
    "\n",
    "# allow visualizations to be plotted inline with the notebook\n",
    "%matplotlib inline"
   ]
  },
  {
   "cell_type": "markdown",
   "metadata": {},
   "source": [
    "<a id='2.0_wrangling'></a>\n",
    "## 2) Data Wrangling\n",
    "<ul> <a href=\"#top_of_page\">Top of Page</a> </ul>\n",
    "\n",
    "\n",
    "<a id='2.1_general_properties'></a>\n",
    "### 2.1) General Properties:\n",
    "<ul> <a href=\"#top_of_page\">Top of Page</a> </ul>"
   ]
  },
  {
   "cell_type": "code",
   "execution_count": 50,
   "metadata": {},
   "outputs": [
    {
     "data": {
      "text/html": [
       "<div>\n",
       "<style scoped>\n",
       "    .dataframe tbody tr th:only-of-type {\n",
       "        vertical-align: middle;\n",
       "    }\n",
       "\n",
       "    .dataframe tbody tr th {\n",
       "        vertical-align: top;\n",
       "    }\n",
       "\n",
       "    .dataframe thead th {\n",
       "        text-align: right;\n",
       "    }\n",
       "</style>\n",
       "<table border=\"1\" class=\"dataframe\">\n",
       "  <thead>\n",
       "    <tr style=\"text-align: right;\">\n",
       "      <th></th>\n",
       "      <th>PatientId</th>\n",
       "      <th>AppointmentID</th>\n",
       "      <th>Gender</th>\n",
       "      <th>ScheduledDay</th>\n",
       "      <th>AppointmentDay</th>\n",
       "      <th>Age</th>\n",
       "      <th>Neighbourhood</th>\n",
       "      <th>Scholarship</th>\n",
       "      <th>Hipertension</th>\n",
       "      <th>Diabetes</th>\n",
       "      <th>Alcoholism</th>\n",
       "      <th>Handcap</th>\n",
       "      <th>SMS_received</th>\n",
       "      <th>No-show</th>\n",
       "    </tr>\n",
       "  </thead>\n",
       "  <tbody>\n",
       "    <tr>\n",
       "      <th>0</th>\n",
       "      <td>2.987250e+13</td>\n",
       "      <td>5642903</td>\n",
       "      <td>F</td>\n",
       "      <td>2016-04-29T18:38:08Z</td>\n",
       "      <td>2016-04-29T00:00:00Z</td>\n",
       "      <td>62</td>\n",
       "      <td>JARDIM DA PENHA</td>\n",
       "      <td>0</td>\n",
       "      <td>1</td>\n",
       "      <td>0</td>\n",
       "      <td>0</td>\n",
       "      <td>0</td>\n",
       "      <td>0</td>\n",
       "      <td>No</td>\n",
       "    </tr>\n",
       "    <tr>\n",
       "      <th>1</th>\n",
       "      <td>5.589978e+14</td>\n",
       "      <td>5642503</td>\n",
       "      <td>M</td>\n",
       "      <td>2016-04-29T16:08:27Z</td>\n",
       "      <td>2016-04-29T00:00:00Z</td>\n",
       "      <td>56</td>\n",
       "      <td>JARDIM DA PENHA</td>\n",
       "      <td>0</td>\n",
       "      <td>0</td>\n",
       "      <td>0</td>\n",
       "      <td>0</td>\n",
       "      <td>0</td>\n",
       "      <td>0</td>\n",
       "      <td>No</td>\n",
       "    </tr>\n",
       "    <tr>\n",
       "      <th>2</th>\n",
       "      <td>4.262962e+12</td>\n",
       "      <td>5642549</td>\n",
       "      <td>F</td>\n",
       "      <td>2016-04-29T16:19:04Z</td>\n",
       "      <td>2016-04-29T00:00:00Z</td>\n",
       "      <td>62</td>\n",
       "      <td>MATA DA PRAIA</td>\n",
       "      <td>0</td>\n",
       "      <td>0</td>\n",
       "      <td>0</td>\n",
       "      <td>0</td>\n",
       "      <td>0</td>\n",
       "      <td>0</td>\n",
       "      <td>No</td>\n",
       "    </tr>\n",
       "    <tr>\n",
       "      <th>3</th>\n",
       "      <td>8.679512e+11</td>\n",
       "      <td>5642828</td>\n",
       "      <td>F</td>\n",
       "      <td>2016-04-29T17:29:31Z</td>\n",
       "      <td>2016-04-29T00:00:00Z</td>\n",
       "      <td>8</td>\n",
       "      <td>PONTAL DE CAMBURI</td>\n",
       "      <td>0</td>\n",
       "      <td>0</td>\n",
       "      <td>0</td>\n",
       "      <td>0</td>\n",
       "      <td>0</td>\n",
       "      <td>0</td>\n",
       "      <td>No</td>\n",
       "    </tr>\n",
       "    <tr>\n",
       "      <th>4</th>\n",
       "      <td>8.841186e+12</td>\n",
       "      <td>5642494</td>\n",
       "      <td>F</td>\n",
       "      <td>2016-04-29T16:07:23Z</td>\n",
       "      <td>2016-04-29T00:00:00Z</td>\n",
       "      <td>56</td>\n",
       "      <td>JARDIM DA PENHA</td>\n",
       "      <td>0</td>\n",
       "      <td>1</td>\n",
       "      <td>1</td>\n",
       "      <td>0</td>\n",
       "      <td>0</td>\n",
       "      <td>0</td>\n",
       "      <td>No</td>\n",
       "    </tr>\n",
       "  </tbody>\n",
       "</table>\n",
       "</div>"
      ],
      "text/plain": [
       "      PatientId  AppointmentID Gender          ScheduledDay  \\\n",
       "0  2.987250e+13        5642903      F  2016-04-29T18:38:08Z   \n",
       "1  5.589978e+14        5642503      M  2016-04-29T16:08:27Z   \n",
       "2  4.262962e+12        5642549      F  2016-04-29T16:19:04Z   \n",
       "3  8.679512e+11        5642828      F  2016-04-29T17:29:31Z   \n",
       "4  8.841186e+12        5642494      F  2016-04-29T16:07:23Z   \n",
       "\n",
       "         AppointmentDay  Age      Neighbourhood  Scholarship  Hipertension  \\\n",
       "0  2016-04-29T00:00:00Z   62    JARDIM DA PENHA            0             1   \n",
       "1  2016-04-29T00:00:00Z   56    JARDIM DA PENHA            0             0   \n",
       "2  2016-04-29T00:00:00Z   62      MATA DA PRAIA            0             0   \n",
       "3  2016-04-29T00:00:00Z    8  PONTAL DE CAMBURI            0             0   \n",
       "4  2016-04-29T00:00:00Z   56    JARDIM DA PENHA            0             1   \n",
       "\n",
       "   Diabetes  Alcoholism  Handcap  SMS_received No-show  \n",
       "0         0           0        0             0      No  \n",
       "1         0           0        0             0      No  \n",
       "2         0           0        0             0      No  \n",
       "3         0           0        0             0      No  \n",
       "4         1           0        0             0      No  "
      ]
     },
     "execution_count": 50,
     "metadata": {},
     "output_type": "execute_result"
    }
   ],
   "source": [
    "# Loading the dataset and printing out a few lines\n",
    "df = pd.read_csv('KaggleV2-May-2016.csv')\n",
    "df.head()"
   ]
  },
  {
   "cell_type": "code",
   "execution_count": 51,
   "metadata": {},
   "outputs": [
    {
     "name": "stdout",
     "output_type": "stream",
     "text": [
      "<class 'pandas.core.frame.DataFrame'>\n",
      "RangeIndex: 110527 entries, 0 to 110526\n",
      "Data columns (total 14 columns):\n",
      "PatientId         110527 non-null float64\n",
      "AppointmentID     110527 non-null int64\n",
      "Gender            110527 non-null object\n",
      "ScheduledDay      110527 non-null object\n",
      "AppointmentDay    110527 non-null object\n",
      "Age               110527 non-null int64\n",
      "Neighbourhood     110527 non-null object\n",
      "Scholarship       110527 non-null int64\n",
      "Hipertension      110527 non-null int64\n",
      "Diabetes          110527 non-null int64\n",
      "Alcoholism        110527 non-null int64\n",
      "Handcap           110527 non-null int64\n",
      "SMS_received      110527 non-null int64\n",
      "No-show           110527 non-null object\n",
      "dtypes: float64(1), int64(8), object(5)\n",
      "memory usage: 11.8+ MB\n"
     ]
    }
   ],
   "source": [
    "# Inspect data types\n",
    "df.info()"
   ]
  },
  {
   "cell_type": "markdown",
   "metadata": {},
   "source": [
    "#### Initial Observations:\n",
    "* The columns 'ScheduledDay' and 'AppointmentDay' appear as strings, but should likely be timestamps.\n",
    "* The following columns should be checked to see if they are always 0 or 1:\n",
    "  * Scholarship\n",
    "  * Hipertension\n",
    "  * Diabetes\n",
    "  * Alcoholism\n",
    "  * Handcap\n",
    "  * SMS_received "
   ]
  },
  {
   "cell_type": "code",
   "execution_count": 52,
   "metadata": {},
   "outputs": [
    {
     "data": {
      "image/png": "[encoded data removed]",
      "text/plain": [
       "<Figure size 1080x720 with 9 Axes>"
      ]
     },
     "metadata": {
      "needs_background": "light"
     },
     "output_type": "display_data"
    }
   ],
   "source": [
    "df.hist(figsize=(15,10));"
   ]
  },
  {
   "cell_type": "markdown",
   "metadata": {},
   "source": [
    "#### Observations:\n",
    "* All of the columns mentioned in \"Initial Observations\" consist of only 1 or 0, except for the 'Handcap' column.\n",
    "* Columns not explored by the hist function (i.e., non-int and non-float columns):\n",
    "  * ['Gender', ScheduledDay', 'AppointmentDay', 'Neighbourhood', 'No-show']"
   ]
  },
  {
   "cell_type": "markdown",
   "metadata": {},
   "source": [
    "<a id='2.2_check_cleanliness'></a>\n",
    "### 2.2) Check Data Cleanliness:\n",
    "<ul> <a href=\"#top_of_page\">Top of Page</a> </ul>\n",
    "\n",
    "#### Check for Null entries"
   ]
  },
  {
   "cell_type": "code",
   "execution_count": 53,
   "metadata": {},
   "outputs": [
    {
     "data": {
      "text/plain": [
       "PatientId         0\n",
       "AppointmentID     0\n",
       "Gender            0\n",
       "ScheduledDay      0\n",
       "AppointmentDay    0\n",
       "Age               0\n",
       "Neighbourhood     0\n",
       "Scholarship       0\n",
       "Hipertension      0\n",
       "Diabetes          0\n",
       "Alcoholism        0\n",
       "Handcap           0\n",
       "SMS_received      0\n",
       "No-show           0\n",
       "dtype: int64"
      ]
     },
     "execution_count": 53,
     "metadata": {},
     "output_type": "execute_result"
    }
   ],
   "source": [
    "# view missing value count for each feature\n",
    "df.isnull().sum()"
   ]
  },
  {
   "cell_type": "markdown",
   "metadata": {},
   "source": [
    "---> columns do not have any null entries"
   ]
  },
  {
   "cell_type": "markdown",
   "metadata": {},
   "source": [
    "#### Check for possible existence of different values than 'M' or 'F' in the 'Gender' column"
   ]
  },
  {
   "cell_type": "code",
   "execution_count": 54,
   "metadata": {},
   "outputs": [
    {
     "name": "stdout",
     "output_type": "stream",
     "text": [
      "F    71840\n",
      "M    38687\n",
      "Name: Gender, dtype: int64\n"
     ]
    }
   ],
   "source": [
    "print(df['Gender'].value_counts())"
   ]
  },
  {
   "cell_type": "markdown",
   "metadata": {},
   "source": [
    "#### Check for possible existence of different values than 'Yes' or 'No' in the 'No-show' column"
   ]
  },
  {
   "cell_type": "code",
   "execution_count": 55,
   "metadata": {},
   "outputs": [
    {
     "name": "stdout",
     "output_type": "stream",
     "text": [
      "No     88208\n",
      "Yes    22319\n",
      "Name: No-show, dtype: int64\n"
     ]
    }
   ],
   "source": [
    "print(df['No-show'].value_counts())"
   ]
  },
  {
   "cell_type": "markdown",
   "metadata": {},
   "source": [
    "---> 'Gender' and 'No-show' columns are clean (i.e., each consists of the two values advertised)"
   ]
  },
  {
   "cell_type": "markdown",
   "metadata": {},
   "source": [
    "#### Check for Duplicates"
   ]
  },
  {
   "cell_type": "code",
   "execution_count": 56,
   "metadata": {},
   "outputs": [
    {
     "data": {
      "text/plain": [
       "0"
      ]
     },
     "execution_count": 56,
     "metadata": {},
     "output_type": "execute_result"
    }
   ],
   "source": [
    "df.duplicated().sum()"
   ]
  },
  {
   "cell_type": "markdown",
   "metadata": {},
   "source": [
    "---> There are no duplicated rows"
   ]
  },
  {
   "cell_type": "markdown",
   "metadata": {},
   "source": [
    "#### Summary of cleanliness checks:\n",
    "* The data set has been checked for the possible existence of:\n",
    "  * [x] Null entries in any column\n",
    "  * [x] Different values than 'M' or 'F' in the 'Gender' column\n",
    "  * [x] Different values than 'Yes' or 'No' in the 'No-show' column\n",
    "  * [x] Duplicate rows\n",
    "* The data did not need fixed for any of the above issues\n"
   ]
  },
  {
   "cell_type": "markdown",
   "metadata": {},
   "source": [
    "<a id='2.3_clean_data'></a>\n",
    "### 2.3) Clean Data:\n",
    "<ul> <a href=\"#top_of_page\">Top of Page</a> </ul>\n",
    "\n",
    "* **Convert ScheduledDay and AppointmentDay to 'datetime', then append '..._date' to the column names**\n",
    "  * 'datetime' has built in methods that will enable better analysis and the creation of additional features / parameters\n",
    "  * Appending '..._date' will avoid confusion with similar columns that are going to be added later\n",
    "* **Convert PatientId from float to int**\n",
    "  * Int is more appropriate than float for this parameter\n",
    "* **Rename 'No-show' column to 'No_show'**"
   ]
  },
  {
   "cell_type": "code",
   "execution_count": 57,
   "metadata": {},
   "outputs": [],
   "source": [
    "# Convert ScheduledDay and AppointmentDay to type 'datetime'\n",
    "df['ScheduledDay'] = pd.to_datetime(df['ScheduledDay'])\n",
    "df['AppointmentDay'] = pd.to_datetime(df['AppointmentDay'])\n",
    "\n",
    "# Convert PatientId from float to int\n",
    "df['PatientId'] = df['PatientId'].astype(int)\n",
    "\n",
    "# Rename columns\n",
    "df.rename(columns={'ScheduledDay':'ScheduledDay_date'}, inplace=True)\n",
    "df.rename(columns={'AppointmentDay':'AppointmentDay_date'}, inplace=True)\n",
    "df.rename(columns={'No-show':'No_show'}, inplace=True)"
   ]
  },
  {
   "cell_type": "markdown",
   "metadata": {},
   "source": [
    "#### Confirm that data types and names were updated correctly:"
   ]
  },
  {
   "cell_type": "code",
   "execution_count": 58,
   "metadata": {},
   "outputs": [
    {
     "name": "stdout",
     "output_type": "stream",
     "text": [
      "<class 'pandas.core.frame.DataFrame'>\n",
      "RangeIndex: 110527 entries, 0 to 110526\n",
      "Data columns (total 14 columns):\n",
      "PatientId              110527 non-null int64\n",
      "AppointmentID          110527 non-null int64\n",
      "Gender                 110527 non-null object\n",
      "ScheduledDay_date      110527 non-null datetime64[ns, UTC]\n",
      "AppointmentDay_date    110527 non-null datetime64[ns, UTC]\n",
      "Age                    110527 non-null int64\n",
      "Neighbourhood          110527 non-null object\n",
      "Scholarship            110527 non-null int64\n",
      "Hipertension           110527 non-null int64\n",
      "Diabetes               110527 non-null int64\n",
      "Alcoholism             110527 non-null int64\n",
      "Handcap                110527 non-null int64\n",
      "SMS_received           110527 non-null int64\n",
      "No_show                110527 non-null object\n",
      "dtypes: datetime64[ns, UTC](2), int64(9), object(3)\n",
      "memory usage: 11.8+ MB\n"
     ]
    }
   ],
   "source": [
    "df.info()\n"
   ]
  },
  {
   "cell_type": "markdown",
   "metadata": {},
   "source": [
    "<a id='2.4_add_features'></a>\n",
    "### 2.4) Add new features:\n",
    "<ul> <a href=\"#top_of_page\">Top of Page</a> </ul>\n",
    "\n",
    "* **Add '\\_num' columns corresponding to Scheduled and Appointment dates**\n",
    "  * AppointmentDay_num and ScheduledDay_num = The day of the week with Monday=0, Sunday=6\n",
    "* **Add Number of days spent waiting between 'Scheduled' and 'Appointment' times**\n",
    "  * 'timeWaiting' = number of days between 'ScheduledDay_date' and 'AppointmentDay_date'"
   ]
  },
  {
   "cell_type": "code",
   "execution_count": 59,
   "metadata": {},
   "outputs": [],
   "source": [
    "# Add '_num' columns corresponding to Scheduled and Appointment dates\n",
    "df['ScheduledDay_num'] = df['ScheduledDay_date'].dt.dayofweek\n",
    "df['AppointmentDay_num'] = df['AppointmentDay_date'].dt.dayofweek\n",
    "\n",
    "# determine the timedelta for time between Scheduled and Appointment\n",
    "df['timeWaiting'] = df['AppointmentDay_date'] - df['ScheduledDay_date']\n",
    "\n",
    "# convert timedelta from seconds to days\n",
    "df['timeWaiting'] = df['timeWaiting'].dt.total_seconds() / (24 * 60 * 60)\n"
   ]
  },
  {
   "cell_type": "markdown",
   "metadata": {},
   "source": [
    "#### Explore new data columns:"
   ]
  },
  {
   "cell_type": "code",
   "execution_count": 60,
   "metadata": {},
   "outputs": [
    {
     "data": {
      "text/html": [
       "<div>\n",
       "<style scoped>\n",
       "    .dataframe tbody tr th:only-of-type {\n",
       "        vertical-align: middle;\n",
       "    }\n",
       "\n",
       "    .dataframe tbody tr th {\n",
       "        vertical-align: top;\n",
       "    }\n",
       "\n",
       "    .dataframe thead th {\n",
       "        text-align: right;\n",
       "    }\n",
       "</style>\n",
       "<table border=\"1\" class=\"dataframe\">\n",
       "  <thead>\n",
       "    <tr style=\"text-align: right;\">\n",
       "      <th></th>\n",
       "      <th>ScheduledDay_date</th>\n",
       "      <th>AppointmentDay_date</th>\n",
       "      <th>ScheduledDay_num</th>\n",
       "      <th>AppointmentDay_num</th>\n",
       "      <th>timeWaiting</th>\n",
       "    </tr>\n",
       "  </thead>\n",
       "  <tbody>\n",
       "    <tr>\n",
       "      <th>110522</th>\n",
       "      <td>2016-05-03 09:15:35+00:00</td>\n",
       "      <td>2016-06-07 00:00:00+00:00</td>\n",
       "      <td>1</td>\n",
       "      <td>1</td>\n",
       "      <td>34.614178</td>\n",
       "    </tr>\n",
       "    <tr>\n",
       "      <th>110523</th>\n",
       "      <td>2016-05-03 07:27:33+00:00</td>\n",
       "      <td>2016-06-07 00:00:00+00:00</td>\n",
       "      <td>1</td>\n",
       "      <td>1</td>\n",
       "      <td>34.689201</td>\n",
       "    </tr>\n",
       "    <tr>\n",
       "      <th>110524</th>\n",
       "      <td>2016-04-27 16:03:52+00:00</td>\n",
       "      <td>2016-06-07 00:00:00+00:00</td>\n",
       "      <td>2</td>\n",
       "      <td>1</td>\n",
       "      <td>40.330648</td>\n",
       "    </tr>\n",
       "    <tr>\n",
       "      <th>110525</th>\n",
       "      <td>2016-04-27 15:09:23+00:00</td>\n",
       "      <td>2016-06-07 00:00:00+00:00</td>\n",
       "      <td>2</td>\n",
       "      <td>1</td>\n",
       "      <td>40.368484</td>\n",
       "    </tr>\n",
       "    <tr>\n",
       "      <th>110526</th>\n",
       "      <td>2016-04-27 13:30:56+00:00</td>\n",
       "      <td>2016-06-07 00:00:00+00:00</td>\n",
       "      <td>2</td>\n",
       "      <td>1</td>\n",
       "      <td>40.436852</td>\n",
       "    </tr>\n",
       "  </tbody>\n",
       "</table>\n",
       "</div>"
      ],
      "text/plain": [
       "               ScheduledDay_date       AppointmentDay_date  ScheduledDay_num  \\\n",
       "110522 2016-05-03 09:15:35+00:00 2016-06-07 00:00:00+00:00                 1   \n",
       "110523 2016-05-03 07:27:33+00:00 2016-06-07 00:00:00+00:00                 1   \n",
       "110524 2016-04-27 16:03:52+00:00 2016-06-07 00:00:00+00:00                 2   \n",
       "110525 2016-04-27 15:09:23+00:00 2016-06-07 00:00:00+00:00                 2   \n",
       "110526 2016-04-27 13:30:56+00:00 2016-06-07 00:00:00+00:00                 2   \n",
       "\n",
       "        AppointmentDay_num  timeWaiting  \n",
       "110522                   1    34.614178  \n",
       "110523                   1    34.689201  \n",
       "110524                   1    40.330648  \n",
       "110525                   1    40.368484  \n",
       "110526                   1    40.436852  "
      ]
     },
     "execution_count": 60,
     "metadata": {},
     "output_type": "execute_result"
    }
   ],
   "source": [
    "# show the tail of the original and new columns:\n",
    "df[['ScheduledDay_date', 'AppointmentDay_date', 'ScheduledDay_num', 'AppointmentDay_num', 'timeWaiting']].tail()"
   ]
  },
  {
   "cell_type": "code",
   "execution_count": 61,
   "metadata": {},
   "outputs": [
    {
     "data": {
      "text/html": [
       "<div>\n",
       "<style scoped>\n",
       "    .dataframe tbody tr th:only-of-type {\n",
       "        vertical-align: middle;\n",
       "    }\n",
       "\n",
       "    .dataframe tbody tr th {\n",
       "        vertical-align: top;\n",
       "    }\n",
       "\n",
       "    .dataframe thead th {\n",
       "        text-align: right;\n",
       "    }\n",
       "</style>\n",
       "<table border=\"1\" class=\"dataframe\">\n",
       "  <thead>\n",
       "    <tr style=\"text-align: right;\">\n",
       "      <th></th>\n",
       "      <th>PatientId</th>\n",
       "      <th>AppointmentID</th>\n",
       "      <th>Age</th>\n",
       "      <th>Scholarship</th>\n",
       "      <th>Hipertension</th>\n",
       "      <th>Diabetes</th>\n",
       "      <th>Alcoholism</th>\n",
       "      <th>Handcap</th>\n",
       "      <th>SMS_received</th>\n",
       "      <th>ScheduledDay_num</th>\n",
       "      <th>AppointmentDay_num</th>\n",
       "      <th>timeWaiting</th>\n",
       "    </tr>\n",
       "  </thead>\n",
       "  <tbody>\n",
       "    <tr>\n",
       "      <th>count</th>\n",
       "      <td>1.105270e+05</td>\n",
       "      <td>1.105270e+05</td>\n",
       "      <td>110527.000000</td>\n",
       "      <td>110527.000000</td>\n",
       "      <td>110527.000000</td>\n",
       "      <td>110527.000000</td>\n",
       "      <td>110527.000000</td>\n",
       "      <td>110527.000000</td>\n",
       "      <td>110527.000000</td>\n",
       "      <td>110527.000000</td>\n",
       "      <td>110527.000000</td>\n",
       "      <td>110527.000000</td>\n",
       "    </tr>\n",
       "    <tr>\n",
       "      <th>mean</th>\n",
       "      <td>1.474963e+14</td>\n",
       "      <td>5.675305e+06</td>\n",
       "      <td>37.088874</td>\n",
       "      <td>0.098266</td>\n",
       "      <td>0.197246</td>\n",
       "      <td>0.071865</td>\n",
       "      <td>0.030400</td>\n",
       "      <td>0.022248</td>\n",
       "      <td>0.321026</td>\n",
       "      <td>1.851955</td>\n",
       "      <td>1.858243</td>\n",
       "      <td>9.714284</td>\n",
       "    </tr>\n",
       "    <tr>\n",
       "      <th>std</th>\n",
       "      <td>2.560949e+14</td>\n",
       "      <td>7.129575e+04</td>\n",
       "      <td>23.110205</td>\n",
       "      <td>0.297675</td>\n",
       "      <td>0.397921</td>\n",
       "      <td>0.258265</td>\n",
       "      <td>0.171686</td>\n",
       "      <td>0.161543</td>\n",
       "      <td>0.466873</td>\n",
       "      <td>1.378520</td>\n",
       "      <td>1.371672</td>\n",
       "      <td>15.244073</td>\n",
       "    </tr>\n",
       "    <tr>\n",
       "      <th>min</th>\n",
       "      <td>3.921700e+04</td>\n",
       "      <td>5.030230e+06</td>\n",
       "      <td>-1.000000</td>\n",
       "      <td>0.000000</td>\n",
       "      <td>0.000000</td>\n",
       "      <td>0.000000</td>\n",
       "      <td>0.000000</td>\n",
       "      <td>0.000000</td>\n",
       "      <td>0.000000</td>\n",
       "      <td>0.000000</td>\n",
       "      <td>0.000000</td>\n",
       "      <td>-6.575926</td>\n",
       "    </tr>\n",
       "    <tr>\n",
       "      <th>25%</th>\n",
       "      <td>4.172614e+12</td>\n",
       "      <td>5.640286e+06</td>\n",
       "      <td>18.000000</td>\n",
       "      <td>0.000000</td>\n",
       "      <td>0.000000</td>\n",
       "      <td>0.000000</td>\n",
       "      <td>0.000000</td>\n",
       "      <td>0.000000</td>\n",
       "      <td>0.000000</td>\n",
       "      <td>1.000000</td>\n",
       "      <td>1.000000</td>\n",
       "      <td>-0.346163</td>\n",
       "    </tr>\n",
       "    <tr>\n",
       "      <th>50%</th>\n",
       "      <td>3.173184e+13</td>\n",
       "      <td>5.680573e+06</td>\n",
       "      <td>37.000000</td>\n",
       "      <td>0.000000</td>\n",
       "      <td>0.000000</td>\n",
       "      <td>0.000000</td>\n",
       "      <td>0.000000</td>\n",
       "      <td>0.000000</td>\n",
       "      <td>0.000000</td>\n",
       "      <td>2.000000</td>\n",
       "      <td>2.000000</td>\n",
       "      <td>3.473819</td>\n",
       "    </tr>\n",
       "    <tr>\n",
       "      <th>75%</th>\n",
       "      <td>9.439172e+13</td>\n",
       "      <td>5.725524e+06</td>\n",
       "      <td>55.000000</td>\n",
       "      <td>0.000000</td>\n",
       "      <td>0.000000</td>\n",
       "      <td>0.000000</td>\n",
       "      <td>0.000000</td>\n",
       "      <td>0.000000</td>\n",
       "      <td>1.000000</td>\n",
       "      <td>3.000000</td>\n",
       "      <td>3.000000</td>\n",
       "      <td>14.320538</td>\n",
       "    </tr>\n",
       "    <tr>\n",
       "      <th>max</th>\n",
       "      <td>9.999816e+14</td>\n",
       "      <td>5.790484e+06</td>\n",
       "      <td>115.000000</td>\n",
       "      <td>1.000000</td>\n",
       "      <td>1.000000</td>\n",
       "      <td>1.000000</td>\n",
       "      <td>1.000000</td>\n",
       "      <td>4.000000</td>\n",
       "      <td>1.000000</td>\n",
       "      <td>5.000000</td>\n",
       "      <td>5.000000</td>\n",
       "      <td>178.554873</td>\n",
       "    </tr>\n",
       "  </tbody>\n",
       "</table>\n",
       "</div>"
      ],
      "text/plain": [
       "          PatientId  AppointmentID            Age    Scholarship  \\\n",
       "count  1.105270e+05   1.105270e+05  110527.000000  110527.000000   \n",
       "mean   1.474963e+14   5.675305e+06      37.088874       0.098266   \n",
       "std    2.560949e+14   7.129575e+04      23.110205       0.297675   \n",
       "min    3.921700e+04   5.030230e+06      -1.000000       0.000000   \n",
       "25%    4.172614e+12   5.640286e+06      18.000000       0.000000   \n",
       "50%    3.173184e+13   5.680573e+06      37.000000       0.000000   \n",
       "75%    9.439172e+13   5.725524e+06      55.000000       0.000000   \n",
       "max    9.999816e+14   5.790484e+06     115.000000       1.000000   \n",
       "\n",
       "        Hipertension       Diabetes     Alcoholism        Handcap  \\\n",
       "count  110527.000000  110527.000000  110527.000000  110527.000000   \n",
       "mean        0.197246       0.071865       0.030400       0.022248   \n",
       "std         0.397921       0.258265       0.171686       0.161543   \n",
       "min         0.000000       0.000000       0.000000       0.000000   \n",
       "25%         0.000000       0.000000       0.000000       0.000000   \n",
       "50%         0.000000       0.000000       0.000000       0.000000   \n",
       "75%         0.000000       0.000000       0.000000       0.000000   \n",
       "max         1.000000       1.000000       1.000000       4.000000   \n",
       "\n",
       "        SMS_received  ScheduledDay_num  AppointmentDay_num    timeWaiting  \n",
       "count  110527.000000     110527.000000       110527.000000  110527.000000  \n",
       "mean        0.321026          1.851955            1.858243       9.714284  \n",
       "std         0.466873          1.378520            1.371672      15.244073  \n",
       "min         0.000000          0.000000            0.000000      -6.575926  \n",
       "25%         0.000000          1.000000            1.000000      -0.346163  \n",
       "50%         0.000000          2.000000            2.000000       3.473819  \n",
       "75%         1.000000          3.000000            3.000000      14.320538  \n",
       "max         1.000000          5.000000            5.000000     178.554873  "
      ]
     },
     "execution_count": 61,
     "metadata": {},
     "output_type": "execute_result"
    }
   ],
   "source": [
    "df.describe()\n"
   ]
  },
  {
   "cell_type": "code",
   "execution_count": 62,
   "metadata": {},
   "outputs": [
    {
     "data": {
      "text/html": [
       "<div>\n",
       "<style scoped>\n",
       "    .dataframe tbody tr th:only-of-type {\n",
       "        vertical-align: middle;\n",
       "    }\n",
       "\n",
       "    .dataframe tbody tr th {\n",
       "        vertical-align: top;\n",
       "    }\n",
       "\n",
       "    .dataframe thead th {\n",
       "        text-align: right;\n",
       "    }\n",
       "</style>\n",
       "<table border=\"1\" class=\"dataframe\">\n",
       "  <thead>\n",
       "    <tr style=\"text-align: right;\">\n",
       "      <th></th>\n",
       "      <th>PatientId</th>\n",
       "      <th>AppointmentID</th>\n",
       "      <th>ScheduledDay_date</th>\n",
       "      <th>AppointmentDay_date</th>\n",
       "      <th>timeWaiting</th>\n",
       "    </tr>\n",
       "  </thead>\n",
       "  <tbody>\n",
       "    <tr>\n",
       "      <th>27033</th>\n",
       "      <td>7839272661752</td>\n",
       "      <td>5679978</td>\n",
       "      <td>2016-05-10 10:51:53+00:00</td>\n",
       "      <td>2016-05-09 00:00:00+00:00</td>\n",
       "      <td>-1.452697</td>\n",
       "    </tr>\n",
       "    <tr>\n",
       "      <th>55226</th>\n",
       "      <td>7896293967868</td>\n",
       "      <td>5715660</td>\n",
       "      <td>2016-05-18 14:50:41+00:00</td>\n",
       "      <td>2016-05-17 00:00:00+00:00</td>\n",
       "      <td>-1.618530</td>\n",
       "    </tr>\n",
       "    <tr>\n",
       "      <th>64175</th>\n",
       "      <td>24252258389979</td>\n",
       "      <td>5664962</td>\n",
       "      <td>2016-05-05 13:43:58+00:00</td>\n",
       "      <td>2016-05-04 00:00:00+00:00</td>\n",
       "      <td>-1.572199</td>\n",
       "    </tr>\n",
       "    <tr>\n",
       "      <th>71533</th>\n",
       "      <td>998231581612122</td>\n",
       "      <td>5686628</td>\n",
       "      <td>2016-05-11 13:49:20+00:00</td>\n",
       "      <td>2016-05-05 00:00:00+00:00</td>\n",
       "      <td>-6.575926</td>\n",
       "    </tr>\n",
       "    <tr>\n",
       "      <th>72362</th>\n",
       "      <td>3787481966821</td>\n",
       "      <td>5655637</td>\n",
       "      <td>2016-05-04 06:50:57+00:00</td>\n",
       "      <td>2016-05-03 00:00:00+00:00</td>\n",
       "      <td>-1.285382</td>\n",
       "    </tr>\n",
       "  </tbody>\n",
       "</table>\n",
       "</div>"
      ],
      "text/plain": [
       "             PatientId  AppointmentID         ScheduledDay_date  \\\n",
       "27033    7839272661752        5679978 2016-05-10 10:51:53+00:00   \n",
       "55226    7896293967868        5715660 2016-05-18 14:50:41+00:00   \n",
       "64175   24252258389979        5664962 2016-05-05 13:43:58+00:00   \n",
       "71533  998231581612122        5686628 2016-05-11 13:49:20+00:00   \n",
       "72362    3787481966821        5655637 2016-05-04 06:50:57+00:00   \n",
       "\n",
       "            AppointmentDay_date  timeWaiting  \n",
       "27033 2016-05-09 00:00:00+00:00    -1.452697  \n",
       "55226 2016-05-17 00:00:00+00:00    -1.618530  \n",
       "64175 2016-05-04 00:00:00+00:00    -1.572199  \n",
       "71533 2016-05-05 00:00:00+00:00    -6.575926  \n",
       "72362 2016-05-03 00:00:00+00:00    -1.285382  "
      ]
     },
     "execution_count": 62,
     "metadata": {},
     "output_type": "execute_result"
    }
   ],
   "source": [
    "print_cols = ['PatientId', 'AppointmentID', 'ScheduledDay_date', 'AppointmentDay_date', 'timeWaiting']\n",
    "df[df['timeWaiting'] <= -1][print_cols]\n"
   ]
  },
  {
   "cell_type": "markdown",
   "metadata": {},
   "source": [
    "#### Observations and Issues:\n",
    "* **There are rows with a negative value for 'Age'**\n",
    "   * This must be an error.\n",
    "* **There are rows with a negative value for 'timeWaiting'**\n",
    "   * I suspect this is because times in the 'AppointmentDay_date' column all occur at the first hour/minute/second of a given day. In other words:\n",
    "     * 'AppointmentDay_date' refers to the date of the appointment, not the precise time\n",
    "     * ...and 'ScheduledDay_date' refers to the precise date/time when the appointment was scheduled\n",
    "   * Rows where timeWaiting is between -1 and 0 can just have their 'timeWaiting' value changed to zero\n",
    "   * Some rows have 'timeWaiting' < 1. This must be an error:\n",
    "     * It is not possible to schedule an appointment after it has already occured\n",
    "     * The 'ScheduledDay_date' and 'AppointmentDay_date' likely need swapped for these rows"
   ]
  },
  {
   "cell_type": "markdown",
   "metadata": {},
   "source": [
    "<a id='2.5_Perform_Additional_data_cleaning'></a>\n",
    "### 2.5) Perform Additional Data Cleaning:\n",
    "<ul> <a href=\"#top_of_page\">Top of Page</a> </ul>\n",
    "\n",
    "#### The following data cleaning steps will be taken to correct the aformentioned issues\n",
    "* **Re: 'Age'**\n",
    "  * Change 'Age' to zero for rows where it has a value < 0\n",
    "* **Re: 'timeWaiting':**\n",
    "  * Swap 'ScheduledDay_date' and 'AppointmentDay_date' values for rows with 'timeWaiting' < -1\n",
    "  * Re-calculate the corresponding derived parameters ('...\\_date', '...\\_num', etc.)\n",
    "  * Change 'timeWaiting' to zero for rows where it would otherwise have a value between -1 and 0\n",
    "  \n",
    "* **Drop columns that will not be used in this analysis:**\n",
    "  * 'ScheduledDay_date'\n",
    "  * 'AppointmentDay_date'\n",
    "  * 'Neighbourhood'"
   ]
  },
  {
   "cell_type": "code",
   "execution_count": 63,
   "metadata": {},
   "outputs": [],
   "source": [
    "# Change 'Age' to zero for rows where it has a value < 0\n",
    "idx = df['Age'] < 0\n",
    "df.loc[idx,['Age']] = 0\n",
    "\n",
    "# Swap 'ScheduledDay_date' and 'AppointmentDay_date' values for rows with 'timeWaiting' < -1\n",
    "idx = df['timeWaiting'] <= -1\n",
    "df.loc[idx,['ScheduledDay_date','AppointmentDay_date']] = df.loc[idx,['AppointmentDay_date','ScheduledDay_date']].values\n",
    "\n",
    "# Re-calculate the corresponding derived parameters ('..._date', '..._num', 'timeWaiting', etc.)\n",
    "df['ScheduledDay_num'] = df['ScheduledDay_date'].dt.dayofweek\n",
    "df['AppointmentDay_num'] = df['AppointmentDay_date'].dt.dayofweek\n",
    "df['timeWaiting'] = df['AppointmentDay_date'] - df['ScheduledDay_date']  # timedelta between Scheduled and Appointment\n",
    "df['timeWaiting'] = df['timeWaiting'].dt.total_seconds() / (24 * 60 * 60)  # convert timedelta to days\n",
    "\n",
    "# Change 'timeWaiting' values to zero for rows where it would otherwise have a value between -1 and 0\n",
    "idx = df['timeWaiting'] < 0\n",
    "df.loc[idx,['timeWaiting']] = 0\n",
    "\n",
    "# Drop columns that will not be needed for analysis:\n",
    "df.drop(['ScheduledDay_date'], axis=1, inplace=True)\n",
    "df.drop(['AppointmentDay_date'], axis=1, inplace=True)\n",
    "df.drop(['Neighbourhood'], axis=1, inplace=True)"
   ]
  },
  {
   "cell_type": "markdown",
   "metadata": {},
   "source": [
    "#### Verify that min 'Age' and 'timeWaiting' values are now zero:"
   ]
  },
  {
   "cell_type": "code",
   "execution_count": 64,
   "metadata": {},
   "outputs": [
    {
     "data": {
      "text/html": [
       "<div>\n",
       "<style scoped>\n",
       "    .dataframe tbody tr th:only-of-type {\n",
       "        vertical-align: middle;\n",
       "    }\n",
       "\n",
       "    .dataframe tbody tr th {\n",
       "        vertical-align: top;\n",
       "    }\n",
       "\n",
       "    .dataframe thead th {\n",
       "        text-align: right;\n",
       "    }\n",
       "</style>\n",
       "<table border=\"1\" class=\"dataframe\">\n",
       "  <thead>\n",
       "    <tr style=\"text-align: right;\">\n",
       "      <th></th>\n",
       "      <th>Age</th>\n",
       "      <th>timeWaiting</th>\n",
       "    </tr>\n",
       "  </thead>\n",
       "  <tbody>\n",
       "    <tr>\n",
       "      <th>count</th>\n",
       "      <td>110527.000000</td>\n",
       "      <td>110527.000000</td>\n",
       "    </tr>\n",
       "    <tr>\n",
       "      <th>mean</th>\n",
       "      <td>37.088883</td>\n",
       "      <td>9.869954</td>\n",
       "    </tr>\n",
       "    <tr>\n",
       "      <th>std</th>\n",
       "      <td>23.110190</td>\n",
       "      <td>15.141276</td>\n",
       "    </tr>\n",
       "    <tr>\n",
       "      <th>min</th>\n",
       "      <td>0.000000</td>\n",
       "      <td>0.000000</td>\n",
       "    </tr>\n",
       "    <tr>\n",
       "      <th>25%</th>\n",
       "      <td>18.000000</td>\n",
       "      <td>0.000000</td>\n",
       "    </tr>\n",
       "    <tr>\n",
       "      <th>50%</th>\n",
       "      <td>37.000000</td>\n",
       "      <td>3.474167</td>\n",
       "    </tr>\n",
       "    <tr>\n",
       "      <th>75%</th>\n",
       "      <td>55.000000</td>\n",
       "      <td>14.320538</td>\n",
       "    </tr>\n",
       "    <tr>\n",
       "      <th>max</th>\n",
       "      <td>115.000000</td>\n",
       "      <td>178.554873</td>\n",
       "    </tr>\n",
       "  </tbody>\n",
       "</table>\n",
       "</div>"
      ],
      "text/plain": [
       "                 Age    timeWaiting\n",
       "count  110527.000000  110527.000000\n",
       "mean       37.088883       9.869954\n",
       "std        23.110190      15.141276\n",
       "min         0.000000       0.000000\n",
       "25%        18.000000       0.000000\n",
       "50%        37.000000       3.474167\n",
       "75%        55.000000      14.320538\n",
       "max       115.000000     178.554873"
      ]
     },
     "execution_count": 64,
     "metadata": {},
     "output_type": "execute_result"
    }
   ],
   "source": [
    "cols = ['Age', 'timeWaiting']\n",
    "df[cols].describe()\n"
   ]
  },
  {
   "cell_type": "markdown",
   "metadata": {},
   "source": [
    "<a id='3.0_eda'></a>\n",
    "## 3) Exploratory Data Analysis\n",
    "<ul>\n",
    "<a href=\"#top_of_page\">Top of Page</a>\n",
    "</ul>\n",
    "\n",
    "This section will start by performing some top level data exploration, then move on to posing and analyzing specific analysis questions.\n"
   ]
  },
  {
   "cell_type": "markdown",
   "metadata": {},
   "source": [
    "<a id='3.1_data_exploration'></a>\n",
    "### 3.1) Top Level:\n",
    "<ul> <a href=\"#top_of_page\">Top of Page</a> </ul>"
   ]
  },
  {
   "cell_type": "code",
   "execution_count": 65,
   "metadata": {},
   "outputs": [
    {
     "name": "stdout",
     "output_type": "stream",
     "text": [
      "<class 'pandas.core.frame.DataFrame'>\n",
      "RangeIndex: 110527 entries, 0 to 110526\n",
      "Data columns (total 14 columns):\n",
      "PatientId             110527 non-null int64\n",
      "AppointmentID         110527 non-null int64\n",
      "Gender                110527 non-null object\n",
      "Age                   110527 non-null int64\n",
      "Scholarship           110527 non-null int64\n",
      "Hipertension          110527 non-null int64\n",
      "Diabetes              110527 non-null int64\n",
      "Alcoholism            110527 non-null int64\n",
      "Handcap               110527 non-null int64\n",
      "SMS_received          110527 non-null int64\n",
      "No_show               110527 non-null object\n",
      "ScheduledDay_num      110527 non-null int64\n",
      "AppointmentDay_num    110527 non-null int64\n",
      "timeWaiting           110527 non-null float64\n",
      "dtypes: float64(1), int64(11), object(2)\n",
      "memory usage: 11.8+ MB\n"
     ]
    }
   ],
   "source": [
    "df.info()"
   ]
  },
  {
   "cell_type": "code",
   "execution_count": 66,
   "metadata": {},
   "outputs": [
    {
     "data": {
      "text/html": [
       "<div>\n",
       "<style scoped>\n",
       "    .dataframe tbody tr th:only-of-type {\n",
       "        vertical-align: middle;\n",
       "    }\n",
       "\n",
       "    .dataframe tbody tr th {\n",
       "        vertical-align: top;\n",
       "    }\n",
       "\n",
       "    .dataframe thead th {\n",
       "        text-align: right;\n",
       "    }\n",
       "</style>\n",
       "<table border=\"1\" class=\"dataframe\">\n",
       "  <thead>\n",
       "    <tr style=\"text-align: right;\">\n",
       "      <th></th>\n",
       "      <th>PatientId</th>\n",
       "      <th>AppointmentID</th>\n",
       "      <th>Gender</th>\n",
       "      <th>Age</th>\n",
       "      <th>Scholarship</th>\n",
       "      <th>Hipertension</th>\n",
       "      <th>Diabetes</th>\n",
       "      <th>Alcoholism</th>\n",
       "      <th>Handcap</th>\n",
       "      <th>SMS_received</th>\n",
       "      <th>No_show</th>\n",
       "      <th>ScheduledDay_num</th>\n",
       "      <th>AppointmentDay_num</th>\n",
       "      <th>timeWaiting</th>\n",
       "    </tr>\n",
       "  </thead>\n",
       "  <tbody>\n",
       "    <tr>\n",
       "      <th>110522</th>\n",
       "      <td>2572134369293</td>\n",
       "      <td>5651768</td>\n",
       "      <td>F</td>\n",
       "      <td>56</td>\n",
       "      <td>0</td>\n",
       "      <td>0</td>\n",
       "      <td>0</td>\n",
       "      <td>0</td>\n",
       "      <td>0</td>\n",
       "      <td>1</td>\n",
       "      <td>No</td>\n",
       "      <td>1</td>\n",
       "      <td>1</td>\n",
       "      <td>34.614178</td>\n",
       "    </tr>\n",
       "    <tr>\n",
       "      <th>110523</th>\n",
       "      <td>3596266328735</td>\n",
       "      <td>5650093</td>\n",
       "      <td>F</td>\n",
       "      <td>51</td>\n",
       "      <td>0</td>\n",
       "      <td>0</td>\n",
       "      <td>0</td>\n",
       "      <td>0</td>\n",
       "      <td>0</td>\n",
       "      <td>1</td>\n",
       "      <td>No</td>\n",
       "      <td>1</td>\n",
       "      <td>1</td>\n",
       "      <td>34.689201</td>\n",
       "    </tr>\n",
       "    <tr>\n",
       "      <th>110524</th>\n",
       "      <td>15576631729893</td>\n",
       "      <td>5630692</td>\n",
       "      <td>F</td>\n",
       "      <td>21</td>\n",
       "      <td>0</td>\n",
       "      <td>0</td>\n",
       "      <td>0</td>\n",
       "      <td>0</td>\n",
       "      <td>0</td>\n",
       "      <td>1</td>\n",
       "      <td>No</td>\n",
       "      <td>2</td>\n",
       "      <td>1</td>\n",
       "      <td>40.330648</td>\n",
       "    </tr>\n",
       "    <tr>\n",
       "      <th>110525</th>\n",
       "      <td>92134931435557</td>\n",
       "      <td>5630323</td>\n",
       "      <td>F</td>\n",
       "      <td>38</td>\n",
       "      <td>0</td>\n",
       "      <td>0</td>\n",
       "      <td>0</td>\n",
       "      <td>0</td>\n",
       "      <td>0</td>\n",
       "      <td>1</td>\n",
       "      <td>No</td>\n",
       "      <td>2</td>\n",
       "      <td>1</td>\n",
       "      <td>40.368484</td>\n",
       "    </tr>\n",
       "    <tr>\n",
       "      <th>110526</th>\n",
       "      <td>377511518121127</td>\n",
       "      <td>5629448</td>\n",
       "      <td>F</td>\n",
       "      <td>54</td>\n",
       "      <td>0</td>\n",
       "      <td>0</td>\n",
       "      <td>0</td>\n",
       "      <td>0</td>\n",
       "      <td>0</td>\n",
       "      <td>1</td>\n",
       "      <td>No</td>\n",
       "      <td>2</td>\n",
       "      <td>1</td>\n",
       "      <td>40.436852</td>\n",
       "    </tr>\n",
       "  </tbody>\n",
       "</table>\n",
       "</div>"
      ],
      "text/plain": [
       "              PatientId  AppointmentID Gender  Age  Scholarship  Hipertension  \\\n",
       "110522    2572134369293        5651768      F   56            0             0   \n",
       "110523    3596266328735        5650093      F   51            0             0   \n",
       "110524   15576631729893        5630692      F   21            0             0   \n",
       "110525   92134931435557        5630323      F   38            0             0   \n",
       "110526  377511518121127        5629448      F   54            0             0   \n",
       "\n",
       "        Diabetes  Alcoholism  Handcap  SMS_received No_show  ScheduledDay_num  \\\n",
       "110522         0           0        0             1      No                 1   \n",
       "110523         0           0        0             1      No                 1   \n",
       "110524         0           0        0             1      No                 2   \n",
       "110525         0           0        0             1      No                 2   \n",
       "110526         0           0        0             1      No                 2   \n",
       "\n",
       "        AppointmentDay_num  timeWaiting  \n",
       "110522                   1    34.614178  \n",
       "110523                   1    34.689201  \n",
       "110524                   1    40.330648  \n",
       "110525                   1    40.368484  \n",
       "110526                   1    40.436852  "
      ]
     },
     "execution_count": 66,
     "metadata": {},
     "output_type": "execute_result"
    }
   ],
   "source": [
    "df.tail()"
   ]
  },
  {
   "cell_type": "code",
   "execution_count": 87,
   "metadata": {},
   "outputs": [
    {
     "data": {
      "image/png": "[encoded data removed]",
      "text/plain": [
       "<Figure size 2160x2160 with 12 Axes>"
      ]
     },
     "metadata": {
      "needs_background": "light"
     },
     "output_type": "display_data"
    }
   ],
   "source": [
    "df.hist(figsize=(30,30));"
   ]
  },
  {
   "cell_type": "markdown",
   "metadata": {},
   "source": [
    "#### Most of the parameters seemed skewed to a certain degree\n",
    "#### Let's run a quick check on the data skewness:\n"
   ]
  },
  {
   "cell_type": "code",
   "execution_count": 68,
   "metadata": {},
   "outputs": [
    {
     "data": {
      "text/plain": [
       "PatientId             1.967729\n",
       "AppointmentID        -1.235588\n",
       "Age                   0.121660\n",
       "Scholarship           2.699199\n",
       "Hipertension          1.521706\n",
       "Diabetes              3.315531\n",
       "Alcoholism            5.470567\n",
       "Handcap               8.274399\n",
       "SMS_received          0.766708\n",
       "ScheduledDay_num      0.182516\n",
       "AppointmentDay_num    0.181725\n",
       "timeWaiting           2.705653\n",
       "dtype: float64"
      ]
     },
     "execution_count": 68,
     "metadata": {},
     "output_type": "execute_result"
    }
   ],
   "source": [
    "df.skew()"
   ]
  },
  {
   "cell_type": "markdown",
   "metadata": {},
   "source": [
    "#### Observations:\n",
    "* **Most of the parameters are indeed skewed**\n",
    "  * This suggests multiple possibilities:\n",
    "    * There may be aspects not currently in the dataset that are affecting the parameters. Some such aspects may include:\n",
    "      * The type of medical appointment(s)\n",
    "      * Patient's yearly salary\n",
    "      * Patient's diet\n",
    "      * Commute time between patient's home and the location of the medical appointment\n",
    "      * Patient's family medical history\n",
    "      * etc.\n",
    "    * The skewed nature of the parameter distributions could also be indicative of other statistical characteristics:\n",
    "      * The distribution(s) are only a sample of the real-world dataset\n",
    "        * i.e., There are a lot of appointments not IN this dataset, and a given sample set may not be representative of the overall dataset\n",
    "      * A given parameter may naturally have a skewed distribution\n",
    "        * i.e., not every distribution is normal\n",
    "* **Columns skewed to the left:**\n",
    "  * 'AppointmentID'\n",
    "* **Columns skewed to the right:**\n",
    "  * All others\n",
    "* **Columns with (relatively) little skew:**\n",
    "  * 'Age'\n",
    "  * 'ScheduledDay_num'\n",
    "  * 'AppointmentDay_num'"
   ]
  },
  {
   "cell_type": "markdown",
   "metadata": {},
   "source": [
    "#### Define boolean masks based on 'No_show' value (to be used for subsequent analyses):"
   ]
  },
  {
   "cell_type": "code",
   "execution_count": 69,
   "metadata": {},
   "outputs": [],
   "source": [
    "noShow = df['No_show'] == 'Yes'   # contains 22319 'True' values\n",
    "didShow = df['No_show'] == 'No'   # contains 88208 'True' values\n"
   ]
  },
  {
   "cell_type": "markdown",
   "metadata": {},
   "source": [
    "<a id='3.2_research_question'></a>\n",
    "### 3.2) Research Question 1:  Is there a relationship between (Appointment day-of-week) and 'No-show'?\n",
    "<ul> <a href=\"#top_of_page\">Top of Page</a> </ul>"
   ]
  },
  {
   "cell_type": "markdown",
   "metadata": {},
   "source": [
    "### 3.2.1) Bar Chart\n",
    "#### Create a Bar Chart to visualize % of no shows vs. Day of Week\n",
    "* To ascertain the % of no shows, convert 'No_show' to 0's and 1's\n",
    "* Upon grouping by 'AppointmentDay_num' and taking the mean of that grouping, the mean values for 'No_show' will represent the % of no shows"
   ]
  },
  {
   "cell_type": "code",
   "execution_count": 70,
   "metadata": {},
   "outputs": [
    {
     "data": {
      "image/png": "[encoded data removed]",
      "text/plain": [
       "<Figure size 432x288 with 1 Axes>"
      ]
     },
     "metadata": {
      "needs_background": "light"
     },
     "output_type": "display_data"
    }
   ],
   "source": [
    "# Convert 'No_show' column to type int\n",
    "idx = df['No_show'] == 'Yes'\n",
    "df.loc[idx,['No_show']] = 1\n",
    "idx = df['No_show'] == 'No'\n",
    "df.loc[idx,['No_show']] = 0\n",
    "\n",
    "# Create the plot\n",
    "dayOfWeek = ['Mon', 'Tue', 'Wed', 'Thu', 'Fri', 'Sat']\n",
    "y = df.groupby('AppointmentDay_num').No_show.mean() * 100\n",
    "plt.bar(dayOfWeek, y, color=\"blue\")\n",
    "plt.title('Average No-Show Percentage by Day')\n",
    "plt.xlabel('Appointment Day')\n",
    "plt.ylabel('Average No-Show Percentage');\n"
   ]
  },
  {
   "cell_type": "markdown",
   "metadata": {},
   "source": [
    "<span style=\"color:green\">\n",
    "    \n",
    "### * Day '5' (Saturday) has the highest average no-show percentage\n",
    "### * Day '4' (Friday) also has a high average no-show percentage\n",
    "</span>"
   ]
  },
  {
   "cell_type": "markdown",
   "metadata": {},
   "source": [
    "### 3.2.2) Line Chart\n",
    "#### A Line Chart might show the same data in a more intuitive fashion:"
   ]
  },
  {
   "cell_type": "code",
   "execution_count": 71,
   "metadata": {},
   "outputs": [
    {
     "data": {
      "image/png": "[encoded data removed]",
      "text/plain": [
       "<Figure size 432x288 with 1 Axes>"
      ]
     },
     "metadata": {
      "needs_background": "light"
     },
     "output_type": "display_data"
    }
   ],
   "source": [
    "# Group by 'Appointment' groupby to get the mean noShow values\n",
    "mean_noShow = df.groupby('AppointmentDay_num').mean()\n",
    "mean_noShow['ApptDayOfWeek'] = ['Mon', 'Tue', 'Wed', 'Thu', 'Fri', 'Sat']\n",
    "\n",
    "# Create a line plot\n",
    "x = mean_noShow.ApptDayOfWeek\n",
    "y = mean_noShow.No_show * 100\n",
    "plt.plot(x, y, color='blue', marker='o', linestyle='solid', linewidth=1, markersize=8)\n",
    "plt.title('Average No-Show Percentage by Day')\n",
    "plt.xlabel('Appointment Day')\n",
    "plt.ylabel('Average No-Show Percentage');\n"
   ]
  },
  {
   "cell_type": "markdown",
   "metadata": {},
   "source": [
    "<span style=\"color:green\">\n",
    "    \n",
    "### While it does not show any different data than the bar plot, the line plot does better visualize how the average No-show percentage changes based on appointment day-of-week\n",
    "</span>"
   ]
  },
  {
   "cell_type": "markdown",
   "metadata": {},
   "source": [
    "### 3.2.3) Normalized Bar Chart\n",
    "#### Another way to analyze this is to compare a given day's no-show percentage to the average (overall) no-show percentage:\n",
    "It is possible to \"normalize\" the daily data points by:\n",
    "* Calculating the difference between that data point and the mean\n",
    "* Then dividing the result by the standard deviation\n",
    "* This returns a set of values indicating how many standard deviations each original (daily avg) value is above the overall (weekly) average"
   ]
  },
  {
   "cell_type": "code",
   "execution_count": 72,
   "metadata": {},
   "outputs": [
    {
     "data": {
      "image/png": "[encoded data removed]",
      "text/plain": [
       "<Figure size 432x288 with 1 Axes>"
      ]
     },
     "metadata": {
      "needs_background": "light"
     },
     "output_type": "display_data"
    }
   ],
   "source": [
    "# Normalize the daily no show rate with respect to its standard deviation:\n",
    "noShowDailyPercentage = df.groupby('AppointmentDay_num').No_show.mean() * 100\n",
    "noShowDailyPercentage_normal = (noShowDailyPercentage - noShowDailyPercentage.mean()) / noShowDailyPercentage.std()\n",
    "\n",
    "# plot the normalized values\n",
    "plt.bar(dayOfWeek, noShowDailyPercentage_normal, color=\"blue\")\n",
    "plt.title('(Standard Deviation of Daily No-Show Rate) vs (Day)')\n",
    "plt.xlabel('Day')\n",
    "plt.ylabel('Standard Deviation');"
   ]
  },
  {
   "cell_type": "markdown",
   "metadata": {},
   "source": [
    "<span style=\"color:green\">\n",
    "    \n",
    "### * This plot more clearly indicates that there is a correlation between no-show percentage and appointment day of the week\n",
    "### * The rate of no-shows increases for Friday and Saturday appointments, with Saturdays having the highest rate of no-shows\n",
    "</span>"
   ]
  },
  {
   "cell_type": "markdown",
   "metadata": {},
   "source": [
    "<a id='3.3_research_question'></a>\n",
    "### 3.3) Research Question 2:  Is there a correlation between 'timeWaiting' (# of days between 'ScheduledDay' and 'AppointmentDay') and 'No_show'?\n",
    "<ul> <a href=\"#top_of_page\">Top of Page</a> </ul>"
   ]
  },
  {
   "cell_type": "markdown",
   "metadata": {},
   "source": [
    "### 3.3.1) Histograms\n",
    "#### Plot Histograms of 'timeWaiting' for patients that did show and patients that did not show:\n",
    "* To ascertain the % of no shows, convert 'No_show' to 0's and 1's\n",
    "* Upon grouping by 'AppointmentDay_num' and taking the mean of that grouping, the mean values for 'No_show' will represent the % of no shows"
   ]
  },
  {
   "cell_type": "code",
   "execution_count": 81,
   "metadata": {},
   "outputs": [
    {
     "data": {
      "image/png": "[encoded data removed]",
      "text/plain": [
       "<Figure size 432x288 with 1 Axes>"
      ]
     },
     "metadata": {
      "needs_background": "light"
     },
     "output_type": "display_data"
    }
   ],
   "source": [
    "fig, chart_var = plt.subplots(figsize=(6,4))\n",
    "chart_var.hist(df.timeWaiting[didShow], alpha=0.9, label='Did Show')\n",
    "chart_var.hist(df.timeWaiting[noShow], alpha=0.9, label='No Show')\n",
    "chart_var.set_title('Distributions of Time Spent Waiting')\n",
    "chart_var.set_xlabel('Time Waiting (days)')\n",
    "chart_var.set_ylabel('Count (# of Appointments)')\n",
    "chart_var.legend(loc='upper right')\n",
    "plt.show();"
   ]
  },
  {
   "cell_type": "markdown",
   "metadata": {},
   "source": [
    "<span style=\"color:green\">\n",
    "    \n",
    "### * Compared to patients who did show, no-show patients had a longer amount of time between their ‘scheduled’ and ‘appointment’ dates \n",
    "### * However, each histogram is highly skewed. So let's look at some other measures of center and shape to support or refute this observation.\n",
    "</span>"
   ]
  },
  {
   "cell_type": "markdown",
   "metadata": {},
   "source": [
    "### 3.3.2) Simple Statistics\n",
    "#### Check some measures of center and shape:"
   ]
  },
  {
   "cell_type": "code",
   "execution_count": 75,
   "metadata": {},
   "outputs": [
    {
     "name": "stdout",
     "output_type": "stream",
     "text": [
      "----------------------Did Show----------------------\n",
      "skewness: 2.977071187959332\n",
      "kurtosis: 14.16018349653138\n",
      "\n",
      "--------------------Did Not Show--------------------\n",
      "skewness: 2.180960811053592\n",
      "kurtosis: 9.06944038866526\n",
      "\n",
      "---------df.timeWaiting[didShow].describe()---------\n",
      "count    88208.000000\n",
      "mean         8.475037\n",
      "std         14.429223\n",
      "min          0.000000\n",
      "25%          0.000000\n",
      "50%          1.622731\n",
      "75%         11.642998\n",
      "max        178.553681\n",
      "Name: timeWaiting, dtype: float64\n",
      "\n",
      "----------df.timeWaiting[noShow].describe()---------\n",
      "count    22319.000000\n",
      "mean        15.382875\n",
      "std         16.565106\n",
      "min          0.000000\n",
      "25%          3.449647\n",
      "50%         10.321192\n",
      "75%         22.655938\n",
      "max        178.554873\n",
      "Name: timeWaiting, dtype: float64\n"
     ]
    }
   ],
   "source": [
    "print('----------------------Did Show----------------------')\n",
    "print('skewness:', df.timeWaiting[didShow].skew())\n",
    "print('kurtosis:', df.timeWaiting[didShow].kurt())\n",
    "print('')\n",
    "print('--------------------Did Not Show--------------------')\n",
    "print('skewness:', df.timeWaiting[noShow].skew())\n",
    "print('kurtosis:', df.timeWaiting[noShow].kurt())\n",
    "print('')\n",
    "print('---------df.timeWaiting[didShow].describe()---------')\n",
    "print(df.timeWaiting[didShow].describe())\n",
    "print('')\n",
    "print('----------df.timeWaiting[noShow].describe()---------')\n",
    "print(df.timeWaiting[noShow].describe())"
   ]
  },
  {
   "cell_type": "markdown",
   "metadata": {},
   "source": [
    "<span style=\"color:green\">\n",
    "    \n",
    "### Measures of center and shape support the observation that patients who did not show tended to spend a longer amount of time waiting than patients who did show.\n",
    "* The distribution of those who did not show is less skewed to the right and has a lower kurtosis\n",
    "* The mean wait time for those who did not show is higher than those who did\n",
    "</span>"
   ]
  },
  {
   "cell_type": "markdown",
   "metadata": {},
   "source": [
    "### 3.3.3) Bar Plot / multi-variate comparison\n",
    "#### * Plot 'timeWaiting' and 'No_show' against another parameter to see if there are any trends\n",
    "#### * Groupby 'Handcap' and 'No_show' to create a multi-variate comparison:\n"
   ]
  },
  {
   "cell_type": "code",
   "execution_count": 91,
   "metadata": {},
   "outputs": [],
   "source": [
    "# Convert 'No_show' back to string values for clarity purposes:\n",
    "idx = df['No_show'] == 1\n",
    "df.loc[idx,['No_show']] = 'No Show'\n",
    "idx = df['No_show'] == 0\n",
    "df.loc[idx,['No_show']] = 'Did Show'\n",
    "\n",
    "# groupby multiple columns\n",
    "grouped_df = df.groupby(['Handcap', 'No_show'])\n",
    "\n",
    "# Then unstack the grouped dataframe to enable easier / better plotting:\n",
    "filtered_grouped_df = grouped_df.aggregate('mean').unstack()"
   ]
  },
  {
   "cell_type": "markdown",
   "metadata": {},
   "source": [
    "#### Plot for the desired columns:"
   ]
  },
  {
   "cell_type": "code",
   "execution_count": 92,
   "metadata": {},
   "outputs": [
    {
     "data": {
      "image/png": "[encoded data removed]",
      "text/plain": [
       "<Figure size 432x288 with 1 Axes>"
      ]
     },
     "metadata": {
      "needs_background": "light"
     },
     "output_type": "display_data"
    }
   ],
   "source": [
    "filtered_grouped_df['timeWaiting'].plot(kind = 'bar', title = 'Average Wait Time vs. Gender and Show/NoShow Values')\n",
    "plt.ylabel('Average Time Waiting (days)')\n",
    "plt.xlabel('# of Disabilities a Patient Has')\n",
    "plt.legend(loc='upper left')\n",
    "plt.show()\n"
   ]
  },
  {
   "cell_type": "markdown",
   "metadata": {},
   "source": [
    "<span style=\"color:green\">\n",
    "    \n",
    "### * For patients that did show, the averge wait time decreases as the number of disabilities increases\n",
    "### * For patients with four disabilities, there was a large difference in wait times between those that showed and those that did not show.\n",
    "* As 'timeWaiting' increases, it is possible that patients with several disabilities are less likely to show up to their appointment. This possibility bears further analysis (beyond the scope of the current report)\n",
    "</span>"
   ]
  },
  {
   "cell_type": "markdown",
   "metadata": {},
   "source": [
    "<a id='3.4_research_question'></a>\n",
    "### 3.4) Research Question 3:  Are certain patients (young, old, male, female, etc.) more or less likely to have a 'No-show'?\n",
    "<ul> <a href=\"#top_of_page\">Top of Page</a> </ul>"
   ]
  },
  {
   "cell_type": "markdown",
   "metadata": {},
   "source": [
    "### 3.4.1) Histograms\n",
    "#### Plot Histograms of 'Age' for patients that did show and patients that did not show"
   ]
  },
  {
   "cell_type": "code",
   "execution_count": 88,
   "metadata": {},
   "outputs": [
    {
     "data": {
      "image/png": "[encoded data removed]",
      "text/plain": [
       "<Figure size 432x288 with 1 Axes>"
      ]
     },
     "metadata": {
      "needs_background": "light"
     },
     "output_type": "display_data"
    }
   ],
   "source": [
    "fig, chart_var = plt.subplots(figsize=(6,4))\n",
    "chart_var.hist(df.Age[didShow], alpha=0.9, bins=20, label='Did Show')\n",
    "chart_var.hist(df.Age[noShow], alpha=0.9, bins=20, label='No Show')\n",
    "chart_var.set_title('Distributions of Patient Ages')\n",
    "chart_var.set_xlabel('Age (years)')\n",
    "chart_var.set_ylabel('Count (# of Apppointments)')\n",
    "chart_var.legend(loc='upper right')\n",
    "plt.show();"
   ]
  },
  {
   "cell_type": "markdown",
   "metadata": {},
   "source": [
    "<span style=\"color:green\">\n",
    "    \n",
    "### * Based on the distribution histograms, it appears that patients who did not show were slightly younger (on average) than patients who did show.\n",
    "\n",
    "### * Since the histograms are skewed and have different scales, let's look at some other measures of center and shape to support or refute this observation.\n",
    "</span>"
   ]
  },
  {
   "cell_type": "markdown",
   "metadata": {},
   "source": [
    "### 3.4.2) Simple Statistics\n",
    "\n",
    "#### Check some measures of center and shape:"
   ]
  },
  {
   "cell_type": "code",
   "execution_count": 89,
   "metadata": {},
   "outputs": [
    {
     "name": "stdout",
     "output_type": "stream",
     "text": [
      "----------------------Did Show----------------------\n",
      "skewness: 0.06897036385435201\n",
      "kurtosis: -0.9843761779958546\n",
      "\n",
      "--------------------Did Not Show--------------------\n",
      "skewness: 0.327782552546731\n",
      "kurtosis: -0.7267498147139024\n",
      "\n",
      "---------df.Age[didShow].describe()---------\n",
      "count    88208.000000\n",
      "mean        37.790076\n",
      "std         23.338860\n",
      "min          0.000000\n",
      "25%         18.000000\n",
      "50%         38.000000\n",
      "75%         56.000000\n",
      "max        115.000000\n",
      "Name: Age, dtype: float64\n",
      "\n",
      "----------df.Age[noShow].describe()---------\n",
      "count    22319.000000\n",
      "mean        34.317667\n",
      "std         21.965941\n",
      "min          0.000000\n",
      "25%         16.000000\n",
      "50%         33.000000\n",
      "75%         51.000000\n",
      "max        115.000000\n",
      "Name: Age, dtype: float64\n"
     ]
    }
   ],
   "source": [
    "print('----------------------Did Show----------------------')\n",
    "print('skewness:', df.Age[didShow].skew())\n",
    "print('kurtosis:', df.Age[didShow].kurt())\n",
    "print('')\n",
    "print('--------------------Did Not Show--------------------')\n",
    "print('skewness:', df.Age[noShow].skew())\n",
    "print('kurtosis:', df.Age[noShow].kurt())\n",
    "print('')\n",
    "print('---------df.Age[didShow].describe()---------')\n",
    "print(df.Age[didShow].describe())\n",
    "print('')\n",
    "print('----------df.Age[noShow].describe()---------')\n",
    "print(df.Age[noShow].describe())"
   ]
  },
  {
   "cell_type": "markdown",
   "metadata": {},
   "source": [
    "<span style=\"color:green\">\n",
    "    \n",
    "### Simple statistics may support the observation that patients who did not show were slightly younger (on average) than patients who did show. \n",
    "* Specifically, 'noShow' patients have a lower mean age and lower age values for the 25%, 50%, and 75% quartiles.\n",
    "* The 'noShow' histogram is also more skewed towards patients with lower ages\n",
    "   * However, this skew may be an indicator that the given sample population is not representative of the overall population. This may deserve more in-depth statistical analysis in the future\n",
    "</span>\n"
   ]
  },
  {
   "cell_type": "markdown",
   "metadata": {},
   "source": [
    "### 3.4.3) Bar Plot / multi-variate comparison\n",
    "In reponse to Research Question 3: Are certain patients (young, old, male, female, etc.) more or less likely to have a 'No-show'?\n",
    "#### * Plot average age and 'No_show' against another parameter to see if there are any trends.\n",
    "#### * Groupby 'Gender' and 'No_show' to create a multi-variate comparison:\n",
    "\n",
    "\n",
    "#### Now, let's do the same thing for gender:"
   ]
  },
  {
   "cell_type": "code",
   "execution_count": 111,
   "metadata": {},
   "outputs": [
    {
     "data": {
      "text/html": [
       "<div>\n",
       "<style scoped>\n",
       "    .dataframe tbody tr th:only-of-type {\n",
       "        vertical-align: middle;\n",
       "    }\n",
       "\n",
       "    .dataframe tbody tr th {\n",
       "        vertical-align: top;\n",
       "    }\n",
       "\n",
       "    .dataframe thead th {\n",
       "        text-align: right;\n",
       "    }\n",
       "</style>\n",
       "<table border=\"1\" class=\"dataframe\">\n",
       "  <thead>\n",
       "    <tr style=\"text-align: right;\">\n",
       "      <th></th>\n",
       "      <th>PatientId</th>\n",
       "      <th>AppointmentID</th>\n",
       "      <th>Gender</th>\n",
       "      <th>Age</th>\n",
       "      <th>Scholarship</th>\n",
       "      <th>Hipertension</th>\n",
       "      <th>Diabetes</th>\n",
       "      <th>Alcoholism</th>\n",
       "      <th>Handcap</th>\n",
       "      <th>SMS_received</th>\n",
       "      <th>No_show</th>\n",
       "      <th>ScheduledDay_num</th>\n",
       "      <th>AppointmentDay_num</th>\n",
       "      <th>timeWaiting</th>\n",
       "    </tr>\n",
       "  </thead>\n",
       "  <tbody>\n",
       "    <tr>\n",
       "      <th>0</th>\n",
       "      <td>29872499824296</td>\n",
       "      <td>5642903</td>\n",
       "      <td>F</td>\n",
       "      <td>62</td>\n",
       "      <td>0</td>\n",
       "      <td>1</td>\n",
       "      <td>0</td>\n",
       "      <td>0</td>\n",
       "      <td>0</td>\n",
       "      <td>No</td>\n",
       "      <td>No</td>\n",
       "      <td>4</td>\n",
       "      <td>4</td>\n",
       "      <td>0.0</td>\n",
       "    </tr>\n",
       "    <tr>\n",
       "      <th>1</th>\n",
       "      <td>558997776694438</td>\n",
       "      <td>5642503</td>\n",
       "      <td>M</td>\n",
       "      <td>56</td>\n",
       "      <td>0</td>\n",
       "      <td>0</td>\n",
       "      <td>0</td>\n",
       "      <td>0</td>\n",
       "      <td>0</td>\n",
       "      <td>No</td>\n",
       "      <td>No</td>\n",
       "      <td>4</td>\n",
       "      <td>4</td>\n",
       "      <td>0.0</td>\n",
       "    </tr>\n",
       "    <tr>\n",
       "      <th>2</th>\n",
       "      <td>4262962299951</td>\n",
       "      <td>5642549</td>\n",
       "      <td>F</td>\n",
       "      <td>62</td>\n",
       "      <td>0</td>\n",
       "      <td>0</td>\n",
       "      <td>0</td>\n",
       "      <td>0</td>\n",
       "      <td>0</td>\n",
       "      <td>No</td>\n",
       "      <td>No</td>\n",
       "      <td>4</td>\n",
       "      <td>4</td>\n",
       "      <td>0.0</td>\n",
       "    </tr>\n",
       "    <tr>\n",
       "      <th>3</th>\n",
       "      <td>867951213174</td>\n",
       "      <td>5642828</td>\n",
       "      <td>F</td>\n",
       "      <td>8</td>\n",
       "      <td>0</td>\n",
       "      <td>0</td>\n",
       "      <td>0</td>\n",
       "      <td>0</td>\n",
       "      <td>0</td>\n",
       "      <td>No</td>\n",
       "      <td>No</td>\n",
       "      <td>4</td>\n",
       "      <td>4</td>\n",
       "      <td>0.0</td>\n",
       "    </tr>\n",
       "    <tr>\n",
       "      <th>4</th>\n",
       "      <td>8841186448183</td>\n",
       "      <td>5642494</td>\n",
       "      <td>F</td>\n",
       "      <td>56</td>\n",
       "      <td>0</td>\n",
       "      <td>1</td>\n",
       "      <td>1</td>\n",
       "      <td>0</td>\n",
       "      <td>0</td>\n",
       "      <td>No</td>\n",
       "      <td>No</td>\n",
       "      <td>4</td>\n",
       "      <td>4</td>\n",
       "      <td>0.0</td>\n",
       "    </tr>\n",
       "  </tbody>\n",
       "</table>\n",
       "</div>"
      ],
      "text/plain": [
       "         PatientId  AppointmentID Gender  Age  Scholarship  Hipertension  \\\n",
       "0   29872499824296        5642903      F   62            0             1   \n",
       "1  558997776694438        5642503      M   56            0             0   \n",
       "2    4262962299951        5642549      F   62            0             0   \n",
       "3     867951213174        5642828      F    8            0             0   \n",
       "4    8841186448183        5642494      F   56            0             1   \n",
       "\n",
       "   Diabetes  Alcoholism  Handcap SMS_received No_show  ScheduledDay_num  \\\n",
       "0         0           0        0           No      No                 4   \n",
       "1         0           0        0           No      No                 4   \n",
       "2         0           0        0           No      No                 4   \n",
       "3         0           0        0           No      No                 4   \n",
       "4         1           0        0           No      No                 4   \n",
       "\n",
       "   AppointmentDay_num  timeWaiting  \n",
       "0                   4          0.0  \n",
       "1                   4          0.0  \n",
       "2                   4          0.0  \n",
       "3                   4          0.0  \n",
       "4                   4          0.0  "
      ]
     },
     "execution_count": 111,
     "metadata": {},
     "output_type": "execute_result"
    }
   ],
   "source": [
    "# Convert 'SMS_received' to Yes and No values for clarity purposes:\n",
    "idx = df['SMS_received'] == 1\n",
    "df.loc[idx,['SMS_received']] = 'Yes'\n",
    "idx = df['SMS_received'] == 0\n",
    "df.loc[idx,['SMS_received']] = 'No'\n",
    "\n",
    "df.head()"
   ]
  },
  {
   "cell_type": "code",
   "execution_count": 93,
   "metadata": {},
   "outputs": [
    {
     "data": {
      "image/png": "[encoded data removed]",
      "text/plain": [
       "<Figure size 432x288 with 1 Axes>"
      ]
     },
     "metadata": {
      "needs_background": "light"
     },
     "output_type": "display_data"
    }
   ],
   "source": [
    "#Groupby 'SMS_received' and 'No_show' to create some multi-variate comparisons\n",
    "#grouped_df = df.groupby(['Age', 'Gender'])\n",
    "grouped_df = df.groupby(['Gender', 'No_show'])\n",
    "grouped_df.mean()\n",
    "\n",
    "#Unstack the resulting dataframe to enable easier / better plotting:\n",
    "filtered_grouped_df = grouped_df.aggregate('mean').unstack()\n",
    "filtered_grouped_df\n",
    "\n",
    "#plot\n",
    "#filtered_grouped_df['Age'].plot(kind = 'bar', title = 'Average Age vs. No_show and SMS_received')\n",
    "filtered_grouped_df['Age'].plot(kind = 'bar', title = 'Average Age vs. No_show and Gender')\n",
    "plt.ylabel('Average Age (years)')\n",
    "plt.legend(loc='upper right')\n",
    "plt.show()\n",
    "\n",
    "\n",
    "# filtered_grouped_df['timeWaiting'].plot(kind = 'bar', title = 'Average Wait Time vs. Gender and Show/NoShow Values')\n",
    "# plt.ylabel('Average Time Waiting (days)')\n",
    "# plt.show()"
   ]
  },
  {
   "cell_type": "markdown",
   "metadata": {},
   "source": [
    "<span style=\"color:green\">\n",
    "    \n",
    "### * Male patients tend to be younger than female patients\n",
    "### * No show patients tend to be younger than patients who did show, regardless of gender\n",
    "### * The rate of “no shows” vs. “did shows” is approximately the same for each gender\n",
    "</span>"
   ]
  },
  {
   "cell_type": "code",
   "execution_count": null,
   "metadata": {},
   "outputs": [],
   "source": []
  },
  {
   "cell_type": "code",
   "execution_count": null,
   "metadata": {},
   "outputs": [],
   "source": []
  },
  {
   "cell_type": "markdown",
   "metadata": {},
   "source": [
    "### Analysis Objective and Questions:\n",
    "* The primary goal of this report is to analyze how various parameters (assumed to be independent variables) do or do not correlate to the 'No-show' parameter (assumed to be a dependent variable).\n",
    "---\n",
    "* **As such, there are a couple of questions I plan to explore over the course of this report:**\n",
    "  1. Is there a correlation between (Appointment day-of-week) and (value of 'No-show')?\n",
    "  2. Is there a correlation between (# of days between 'ScheduledDay' and 'AppointmentDay') and the (value of 'No-show')?\n",
    "  3. Are certain patients (male, female, young, old, etc.) more or less likely to have a 'No-show'?"
   ]
  },
  {
   "cell_type": "markdown",
   "metadata": {},
   "source": [
    "#### Thoughts on how and what to analyze:\n",
    "* **Groupings and/or boolean masks to be considered for analysis:**\n",
    "  * df['Gender'] == 'M'\n",
    "  * df['Gender'] == 'F'\n",
    "  * groupBy 'Neighbourhood'\n",
    "  * df['No-show'] == 'Yes'\n",
    "  * df['No-show'] == 'No'\n",
    "  * scatter-gram:  (number of days between scheduled and appointment) vs (No-shows)"
   ]
  },
  {
   "cell_type": "markdown",
   "metadata": {},
   "source": [
    "* **Numerous date / time aspects can be analyzed as possible independent variables. This may involve adding new features to the dataset.**\n",
    "  * Aspects (features?) that could be explored:\n",
    "    * Appointment day-of-week (Mon, Tue, etc.)\n",
    "    * Scheduled day-of-week (Mon, Tue, etc.)\n",
    "    * Number of days between Scheduled and Appointment\n",
    "    * Appointment time of day\n",
    "    * Scheduled time of day"
   ]
  },
  {
   "cell_type": "markdown",
   "metadata": {},
   "source": [
    "<a id='4.0_summary'></a>\n",
    "## 4) Summary\n",
    "<ul> <a href=\"#top_of_page\">Top of Page</a> </ul>\n"
   ]
  },
  {
   "cell_type": "markdown",
   "metadata": {},
   "source": [
    "<a id='4.1_limits_of_analysis'></a>\n",
    "### 4.1) Limits of Analysis\n",
    "<ul> <a href=\"#top_of_page\">Top of Page</a> </ul>\n",
    "\n",
    "* As stated previously (see “scope” section), the findings herein are based primarily on plots and descriptive statistics, are considered subjective, and do not imply causation between parameters.\n",
    "* The conclusions above are not intended to be exhaustive or definitive (i.e., the data set could easily be subject analyzed at greater length)."
   ]
  },
  {
   "cell_type": "markdown",
   "metadata": {},
   "source": [
    "<a id='4.2_conclusions'></a>\n",
    "### 4.2) Conclusions\n",
    "<ul> <a href=\"#top_of_page\">Top of Page</a> </ul>\n",
    "\n",
    "1. The rate of no-shows increases for Friday and Saturday appointments, with Saturdays having the highest rate of no-shows.\n",
    "2. Compared to patients who did show, no-show patients had a longer amount of time between their ‘scheduled’ and ‘appointment’ dates.\n",
    "3. For patients that did show, the average wait time decreases as the number of disabilities increases.\n",
    "4. For patients with four disabilities, there was a large difference in wait times between those that showed and those that did not show.\n",
    "   * As 'timeWaiting' increases, it is possible that patients with several disabilities are less likely to show up to their appointment. This possibility bears further analysis (beyond the scope of the current report).\n",
    "5. Patients who did not show were slightly younger (on average) than patients who did show.\n",
    "6. Male patients tend to be younger than female patients.\n",
    "7. No show patients tend to be younger than patients who did show, regardless of gender.\n",
    "8. The rate of “no shows” vs. “did shows” is approximately the same for each gender."
   ]
  },
  {
   "cell_type": "code",
   "execution_count": null,
   "metadata": {},
   "outputs": [],
   "source": []
  },
  {
   "cell_type": "code",
   "execution_count": null,
   "metadata": {},
   "outputs": [],
   "source": []
  },
  {
   "cell_type": "code",
   "execution_count": null,
   "metadata": {},
   "outputs": [],
   "source": []
  },
  {
   "cell_type": "markdown",
   "metadata": {},
   "source": [
    "\n",
    "#### 3.2) Is there a relationship between (Appointment day-of-week) and 'No-show'?\n",
    "#### 3.2.1) Bar Chart:\n",
    "* Day '5' (Saturday) has the highest average no-show percentage\n",
    "* Day '4' (Friday) also has a high average no-show percentage \n",
    "\n",
    "#### 3.2.1) Line Chart:\n",
    "* While it does not show any different data than the bar plot, the line plot does better visualize how the average No-show percentage changes based on day-of-week\n",
    "\n",
    "#### 3.2.3) Plot normalized data\n",
    "* This plot indicates that there is a correlation between no-show percentage and appointment day of the week\n",
    "* The rate of no-shows increases for Friday and Saturday appointments, with Saturdays having the highest rate of no-shows\n",
    "\n",
    "#### 3.3) Research Question 2: Is there a correlation between 'timeWaiting' (# of days between 'ScheduledDay' and 'AppointmentDay') and 'No_show'?\n",
    "#### 3.3.1) Histograms:\n",
    "* Patients who did not show appeared to spend a slightly longer amount of time waiting (i.e., # of days between the date an appointment was scheduled and the date of the actual appointment) than patients who did show. \n",
    "* However, each histogram is highly skewed. So let's look at some other measures of center and shape to support or refute this observation.\n",
    "\n",
    "#### 3.3.2) Simple Statistics:\n",
    "* Measures of center and shape support the observation that patients who did not show tended to spend a longer amount of time waiting than patients who did show.\n",
    "  * The distribution of those who did not show is less skewed to the right and has a lower kurtosis\n",
    "  * The mean wait time for those who did not show is higher than those who did\n",
    "\n",
    "#### 3.3.3) Bar Plot / multi-variate comparison:\n",
    "* For patients that did show, the averge wait time decreases as the number of disabilities increases\n",
    "* For patients with four disabilities, there was a large difference in wait times between those that showed and those that did not show.\n",
    "  * As 'timeWaiting' increases, it is possible that patients with several disabilities are less likely to show up to their appointment. This possibility bears further analysis (beyond the scope of the current report)\n",
    "\n",
    "#### 3.4) Research Question 3: Are certain patients (young, old, male, female, etc.) more or less likely to have a 'No-show'?    \n",
    "\n",
    "#### 3.4.1)    Histograms\n",
    "* Based on the distribution histograms, it appears that patients who did not show were slightly younger (on average) than patients who did show.\n",
    "* Since the histograms are skewed and have different scales, let's look at some other measures of center and shape to support or refute this observation.\n",
    "\n",
    "#### 3.4.2) Simple Statistics:    \n",
    "* Simple statistics may support the observation that patients who did not show were slightly younger (on average) than patients who did show. \n",
    "  * Specifically, 'noShow' patients have a lower mean age and lower age values for the 25%, 50%, and 75% quartiles.\n",
    "  * The 'noShow' histogram is also more skewed towards patients with lower ages\n",
    "    * However, this skew may be an indicator that the given sample population is not representative of the overall population. This may deserve more in-depth statistical analysis in the future\n",
    "\n",
    "#### 3.4.3) Bar Plot / multi-variate comparison:\n",
    "* Male patients tend to be younger than female patients\n",
    "* No show patients tend to be younger than patients who did show, regardless of gender\n",
    "* The rate of “no shows” vs. “did shows” is approximately the same for each gender"
   ]
  },
  {
   "cell_type": "markdown",
   "metadata": {
    "collapsed": true
   },
   "source": [
    "<a id='4.2_future_work'></a>\n",
    "### 4.2) Future Work\n",
    "<ul> <a href=\"#top_of_page\">Top of Page</a> </ul>\n",
    "\n",
    "#### Some patients likely have multiple AppointmentID entries\n",
    "* A potential follow-on series of questions could involve analyzing whether there is a correlation between patients that have multiple 'AppointmentIDs' and other parameters such as 'Age' or 'Gender'\n",
    "  * df.nunique()"
   ]
  },
  {
   "cell_type": "markdown",
   "metadata": {},
   "source": [
    "#### The 'PatientID' column bears further exploration, and possibly data cleaning / wrangling.\n",
    "* It has a highly skewed distribution.\n",
    "  * This may mean there are errors in the 'PatientID' values\n",
    "  * It may also be a sign that there is a multi-variate distribution within the overall 'PatientID' column.\n",
    "* The value of PatientID may warrant its own analysis for possible correlations to other parameters"
   ]
  },
  {
   "cell_type": "markdown",
   "metadata": {},
   "source": [
    "####  Data Wrangling / Analysis to consider:\n",
    "* **Split 'No_show' column into 'No_show' and 'Did_show'? columns**\n",
    "* **Account for greater number of appointments during the week than on Friday?**\n",
    "  * create a 'percentOfTotalAppts' column?\n",
    "  * create a 'percentOfTotalNoShows' column?\n",
    "* **Determine number of noShows on a given day?**\n",
    "* **Determine percentage of noShows on a given day?**\n",
    "* **Need to master split-apply-combine(then merge?) technique to add powerful new features to a dataframe. For instance:**\n",
    "  * Add total # of appointments for a given day\n",
    "  * Add total # of noShow appointments for a given day\n",
    "  * Add total # of didShow appointments for a given day\n",
    "  * Add percentage of noShows for a given day\n",
    "  * etc."
   ]
  },
  {
   "cell_type": "code",
   "execution_count": null,
   "metadata": {},
   "outputs": [],
   "source": []
  },
  {
   "cell_type": "code",
   "execution_count": null,
   "metadata": {},
   "outputs": [],
   "source": []
  },
  {
   "cell_type": "code",
   "execution_count": null,
   "metadata": {},
   "outputs": [],
   "source": []
  },
  {
   "cell_type": "code",
   "execution_count": null,
   "metadata": {},
   "outputs": [],
   "source": []
  }
 ],
 "metadata": {
  "kernelspec": {
   "display_name": "Python 3",
   "language": "python",
   "name": "python3"
  }
 },
 "nbformat": 4,
 "nbformat_minor": 2
}
